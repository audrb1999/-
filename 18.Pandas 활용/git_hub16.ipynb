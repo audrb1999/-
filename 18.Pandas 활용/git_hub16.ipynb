{
  "nbformat": 4,
  "nbformat_minor": 0,
  "metadata": {
    "colab": {
      "name": "git_hub13.ipynb",
      "provenance": [],
      "toc_visible": true,
      "authorship_tag": "ABX9TyNbBYvOTFHVjD/vCdEFnXhc",
      "include_colab_link": true
    },
    "kernelspec": {
      "name": "python3",
      "display_name": "Python 3"
    },
    "language_info": {
      "name": "python"
    }
  },
  "cells": [
    {
      "cell_type": "markdown",
      "metadata": {
        "id": "view-in-github",
        "colab_type": "text"
      },
      "source": [
        "<a href=\"https://colab.research.google.com/github/audrb1999/Python_image/blob/main/18.Pandas%20%ED%99%9C%EC%9A%A9/git_hub16.ipynb\" target=\"_parent\"><img src=\"https://colab.research.google.com/assets/colab-badge.svg\" alt=\"Open In Colab\"/></a>"
      ]
    },
    {
      "cell_type": "markdown",
      "metadata": {
        "id": "mRHrgBRYQe_O"
      },
      "source": [
        "# 18.Pandas 활용"
      ]
    },
    {
      "cell_type": "markdown",
      "metadata": {
        "id": "zLQi_Qh1aUCs"
      },
      "source": [
        "## 데이터 프레임의 마스킹"
      ]
    },
    {
      "cell_type": "code",
      "metadata": {
        "id": "K3SHga2jMLxM",
        "colab": {
          "base_uri": "https://localhost:8080/"
        },
        "outputId": "62e2cd0d-3437-4476-8397-b73fa588f8a0"
      },
      "source": [
        "import numpy as np\n",
        "import pandas as pd\n",
        "\n",
        "df = pd.DataFrame(np.random.randint(1, 10, (2, 2)), index = [0, 1], columns = ['A', 'B'])\n",
        "print(df, '\\n')\n",
        "\n",
        "# A의 두 원소가 5보다 작은지 체크\n",
        "print(df['A']<=5, '\\n')\n",
        "\n",
        "# 5보다 큰 값만 출력\n",
        "print(df[df>5], '\\n')\n",
        "\n",
        "# query를 통해 마스킹 연산 > a는 5보다 작고 b는 8보다 작은 행만 출력\n",
        "print(df.query('A <=5 and B <= 8'))"
      ],
      "execution_count": 1,
      "outputs": [
        {
          "output_type": "stream",
          "text": [
            "   A  B\n",
            "0  7  6\n",
            "1  3  3 \n",
            "\n",
            "0    False\n",
            "1     True\n",
            "Name: A, dtype: bool \n",
            "\n",
            "     A    B\n",
            "0  7.0  6.0\n",
            "1  NaN  NaN \n",
            "\n",
            "   A  B\n",
            "1  3  3\n"
          ],
          "name": "stdout"
        }
      ]
    },
    {
      "cell_type": "markdown",
      "metadata": {
        "id": "Td3vl7_jlSlM"
      },
      "source": [
        "## 데이터 프레임의 개별 연산 1 "
      ]
    },
    {
      "cell_type": "code",
      "metadata": {
        "id": "Kc5Y3pmmMQIq",
        "colab": {
          "base_uri": "https://localhost:8080/"
        },
        "outputId": "0012006b-845f-4dc8-c697-e0f012c1ee6e"
      },
      "source": [
        "df = pd.DataFrame([[1, 2, 3, 4], [1, 2, 3, 4]], index = [0, 1], columns = ['A', 'B', 'C', 'D'])\n",
        "print(df, '\\n')\n",
        "\n",
        "df = df.apply(lambda x:x + 1)\n",
        "print(df, '\\n')\n",
        "\n",
        "def addone(x):\n",
        "    return x +1\n",
        "\n",
        "df = df.apply(addone)\n",
        "print(df)\n",
        "\n",
        "\n",
        "# apply 각 원소에 해당 기능 or 조건을 실행"
      ],
      "execution_count": 2,
      "outputs": [
        {
          "output_type": "stream",
          "text": [
            "   A  B  C  D\n",
            "0  1  2  3  4\n",
            "1  1  2  3  4 \n",
            "\n",
            "   A  B  C  D\n",
            "0  2  3  4  5\n",
            "1  2  3  4  5 \n",
            "\n",
            "   A  B  C  D\n",
            "0  3  4  5  6\n",
            "1  3  4  5  6\n"
          ],
          "name": "stdout"
        }
      ]
    },
    {
      "cell_type": "markdown",
      "metadata": {
        "id": "OjC6ovUJSz7I"
      },
      "source": [
        "## 데이터 프레임 개별 연산"
      ]
    },
    {
      "cell_type": "code",
      "metadata": {
        "colab": {
          "base_uri": "https://localhost:8080/"
        },
        "id": "3BtNLZhoaYwU",
        "outputId": "9aac0eff-2eec-4b3d-a65b-931336b60a28"
      },
      "source": [
        "import pandas as pd\n",
        "\n",
        "df = pd.DataFrame([[\"0\", \"0\" , \"0\" , \"0\"],['1', '1', '1', '1']], index = [0, 1], columns=['A', 'B', 'C', 'D'])\n",
        "\n",
        "print(df, '\\n')\n",
        "\n",
        "# 0들의 값들을 바꿈\n",
        "df = df.replace({'0':'Hi'})\n",
        "\n",
        "print(df)"
      ],
      "execution_count": 3,
      "outputs": [
        {
          "output_type": "stream",
          "text": [
            "   A  B  C  D\n",
            "0  0  0  0  0\n",
            "1  1  1  1  1 \n",
            "\n",
            "    A   B   C   D\n",
            "0  Hi  Hi  Hi  Hi\n",
            "1   1   1   1   1\n"
          ],
          "name": "stdout"
        }
      ]
    },
    {
      "cell_type": "markdown",
      "metadata": {
        "id": "--HtEyWAajr8"
      },
      "source": [
        "## 그룹화"
      ]
    },
    {
      "cell_type": "code",
      "metadata": {
        "colab": {
          "base_uri": "https://localhost:8080/"
        },
        "id": "y6YNOP6ZahF9",
        "outputId": "9c191904-1b9b-464b-d98a-5ca336ba18c1"
      },
      "source": [
        "import pandas as pd\n",
        "\n",
        "df = pd.DataFrame([\n",
        "  ['Apple', 7, 'Fruit'],\n",
        "  ['Banana', 3, 'Fruit'],\n",
        "  ['Beef', 5, 'Meal'],\n",
        "  ['Kimchi', 4, 'Meal']],\n",
        "  columns=[\"Name\", \"Frequency\", \"Type\"])\n",
        "print(df, '\\n')\n",
        "print(df)\n",
        "\n",
        "# 묶은 다음 연산으로 하면 묶은 애들 끼리 연산이 됨!\n",
        "print(df.groupby(['Type']).sum())"
      ],
      "execution_count": 4,
      "outputs": [
        {
          "output_type": "stream",
          "text": [
            "     Name  Frequency   Type\n",
            "0   Apple          7  Fruit\n",
            "1  Banana          3  Fruit\n",
            "2    Beef          5   Meal\n",
            "3  Kimchi          4   Meal \n",
            "\n",
            "     Name  Frequency   Type\n",
            "0   Apple          7  Fruit\n",
            "1  Banana          3  Fruit\n",
            "2    Beef          5   Meal\n",
            "3  Kimchi          4   Meal\n",
            "       Frequency\n",
            "Type            \n",
            "Fruit         10\n",
            "Meal           9\n"
          ],
          "name": "stdout"
        }
      ]
    },
    {
      "cell_type": "code",
      "metadata": {
        "colab": {
          "base_uri": "https://localhost:8080/"
        },
        "id": "tQFV-MTyal_8",
        "outputId": "c1440564-7140-4cf8-d19c-41ab85961b36"
      },
      "source": [
        "import numpy as np\n",
        "import pandas as pd\n",
        "\n",
        "df = pd.DataFrame([\n",
        "  ['Apple', 7, 5, 'Fruit'],\n",
        "  ['Banana', 3, 6, 'Fruit'],\n",
        "  ['Beef', 5, 2, 'Meal'],\n",
        "  ['Kimchi', 4, 8, 'Meal']],\n",
        "  columns=[\"Name\", \"Frequency\", \"Importance\", \"Type\"])\n",
        "\n",
        "print(df)\n",
        "# aggregate 를 사용해서 사용한 함수 연산들을 한번에 수행 후 값을 보여주는 것 \n",
        "print(df.groupby([\"Type\"]).aggregate([min, max, np.average]))"
      ],
      "execution_count": 5,
      "outputs": [
        {
          "output_type": "stream",
          "text": [
            "     Name  Frequency  Importance   Type\n",
            "0   Apple          7           5  Fruit\n",
            "1  Banana          3           6  Fruit\n",
            "2    Beef          5           2   Meal\n",
            "3  Kimchi          4           8   Meal\n",
            "      Frequency             Importance            \n",
            "            min max average        min max average\n",
            "Type                                              \n",
            "Fruit         3   7     5.0          5   6     5.5\n",
            "Meal          4   5     4.5          2   8     5.0\n"
          ],
          "name": "stdout"
        }
      ]
    },
    {
      "cell_type": "code",
      "metadata": {
        "colab": {
          "base_uri": "https://localhost:8080/"
        },
        "id": "kHV5HMX4S4bn",
        "outputId": "c6829b90-c564-4058-d28a-c6f1c771b32b"
      },
      "source": [
        "import pandas as pd\n",
        "\n",
        "df = pd.DataFrame([\n",
        "  ['Apple', 7, 5, 'Fruit'],\n",
        "  ['Banana', 3, 6, 'Fruit'],\n",
        "  ['Beef', 5, 2, 'Meal'],\n",
        "  ['Kimchi', 4, 8, 'Meal']],\n",
        "  columns=[\"Name\", \"Frequency\", \"Importance\", \"Type\"])\n",
        "\n",
        "\n",
        "def my_filter(data):\n",
        "  return data[\"Frequency\"].mean() >= 5\n",
        "\n",
        "\n",
        "print(df)\n",
        "\n",
        "# \n",
        "df = df.groupby(\"Type\").filter(my_filter)\n",
        "print(df)"
      ],
      "execution_count": 6,
      "outputs": [
        {
          "output_type": "stream",
          "text": [
            "     Name  Frequency  Importance   Type\n",
            "0   Apple          7           5  Fruit\n",
            "1  Banana          3           6  Fruit\n",
            "2    Beef          5           2   Meal\n",
            "3  Kimchi          4           8   Meal\n",
            "     Name  Frequency  Importance   Type\n",
            "0   Apple          7           5  Fruit\n",
            "1  Banana          3           6  Fruit\n"
          ],
          "name": "stdout"
        }
      ]
    },
    {
      "cell_type": "code",
      "metadata": {
        "colab": {
          "base_uri": "https://localhost:8080/"
        },
        "id": "mY99OVcDS4ZG",
        "outputId": "b57b25af-2dba-4712-c614-0850950c524b"
      },
      "source": [
        "import pandas as pd\n",
        "\n",
        "df = pd.DataFrame([\n",
        "  ['Apple', 7, 5, 'Fruit'],\n",
        "  ['Banana', 3, 6, 'Fruit'],\n",
        "  ['Beef', 5, 2, 'Meal'],\n",
        "  ['Kimchi', 4, 8, 'Meal']],\n",
        "  columns=[\"Name\", \"Frequency\", \"Importance\", \"Type\"])\n",
        "\n",
        "df = df.groupby(\"Type\").get_group(\"Fruit\")# fruit만 출력\n",
        "print(df)"
      ],
      "execution_count": 7,
      "outputs": [
        {
          "output_type": "stream",
          "text": [
            "     Name  Frequency  Importance   Type\n",
            "0   Apple          7           5  Fruit\n",
            "1  Banana          3           6  Fruit\n"
          ],
          "name": "stdout"
        }
      ]
    },
    {
      "cell_type": "code",
      "metadata": {
        "colab": {
          "base_uri": "https://localhost:8080/"
        },
        "id": "6fOxDmaGS4Wn",
        "outputId": "41723bec-d33f-45e6-dcae-257f4c209ebe"
      },
      "source": [
        "import pandas as pd\n",
        "\n",
        "df = pd.DataFrame([\n",
        "  ['Apple', 7, 5, 'Fruit'],\n",
        "  ['Banana', 3, 6, 'Fruit'],\n",
        "  ['Beef', 5, 2, 'Meal'],\n",
        "  ['Kimchi', 4, 8, 'Meal']],\n",
        "  columns=[\"Name\", \"Frequency\", \"Importance\", \"Type\"])\n",
        "\n",
        "# 타입 값들 - 타입 값의 평균을 수행\n",
        "df[\"Gap\"] = df.groupby(\"Type\")[\"Frequency\"].apply(lambda x: x - x.mean())\n",
        "print(df)"
      ],
      "execution_count": 8,
      "outputs": [
        {
          "output_type": "stream",
          "text": [
            "     Name  Frequency  Importance   Type  Gap\n",
            "0   Apple          7           5  Fruit  2.0\n",
            "1  Banana          3           6  Fruit -2.0\n",
            "2    Beef          5           2   Meal  0.5\n",
            "3  Kimchi          4           8   Meal -0.5\n"
          ],
          "name": "stdout"
        }
      ]
    }
  ]
}