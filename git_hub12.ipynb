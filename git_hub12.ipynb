{
  "nbformat": 4,
  "nbformat_minor": 0,
  "metadata": {
    "colab": {
      "name": "git_hub12.ipynb",
      "provenance": [],
      "authorship_tag": "ABX9TyPqcYSZbOrVHEZDAa7sQo0k",
      "include_colab_link": true
    },
    "kernelspec": {
      "name": "python3",
      "display_name": "Python 3"
    },
    "language_info": {
      "name": "python"
    }
  },
  "cells": [
    {
      "cell_type": "markdown",
      "metadata": {
        "id": "view-in-github",
        "colab_type": "text"
      },
      "source": [
        "<a href=\"https://colab.research.google.com/github/audrb1999/Python_image/blob/main/git_hub12.ipynb\" target=\"_parent\"><img src=\"https://colab.research.google.com/assets/colab-badge.svg\" alt=\"Open In Colab\"/></a>"
      ]
    },
    {
      "cell_type": "markdown",
      "metadata": {
        "id": "mRHrgBRYQe_O"
      },
      "source": [
        "# ***14. 중급 Captcha Hacking ④ - KNN 모델 학습*** \n",
        "파이참에서 이용해야함!"
      ]
    },
    {
      "cell_type": "code",
      "metadata": {
        "id": "K3SHga2jMLxM"
      },
      "source": [
        "import os\n",
        "import cv2\n",
        "import numpy as np\n",
        "\n",
        "file_names = list(range(0, 13))\n",
        "train = []\n",
        "train_labels = []# 데이터 라벨 설정\n",
        "\n",
        "for file_name in file_names:\n",
        "    path = 'training_data/' + str(file_name) + '/'\n",
        "    file_count = len(os.listdir('training_data/' + str(file_name) + '/'))# 총 이미지 갯수를 읽어롬\n",
        "    for i in range(1, file_count + 1):# 그 이미지 갯수만큼 반복\n",
        "        img = cv2.imread(path + str(i) + '.png')\n",
        "        gray = cv2.cvtColor(img, cv2.COLOR_BGR2GRAY)# 읽은 파일을 흑백으로 바꿈\n",
        "        train.append(gray)#\n",
        "        train_labels.append(file_name)\n",
        "\n",
        "\n",
        "x = np.array(train)\n",
        "train = x[:, :].reshape(-1, 400).astype(np.float32)# 20x20 을 1차원으로 변경\n",
        "train_labels = np.array(train_labels)[:, np.newaxis]# 2차원으로 변형\n",
        "\n",
        "print(train.shape)# 우리가 수집한 데이터, 24개에 길이 400\n",
        "print(train_labels.shape)\n",
        "\n",
        "np.savez('train.npz', train = train, train_labels = train_labels)#데이터 셋 저장!\n",
        "\n"
      ],
      "execution_count": null,
      "outputs": []
    },
    {
      "cell_type": "markdown",
      "metadata": {
        "id": "Td3vl7_jlSlM"
      },
      "source": [
        "KNN 알고리즘은 머신러닝 알고리즘이지만 이 정도만해도 학습이 끝남!"
      ]
    },
    {
      "cell_type": "markdown",
      "metadata": {
        "id": "T5wretMFlSok"
      },
      "source": [
        "가볍게 실행 시켜보자!"
      ]
    },
    {
      "cell_type": "code",
      "metadata": {
        "id": "Kc5Y3pmmMQIq"
      },
      "source": [
        "import numpy as np\n",
        "import cv2\n",
        "import utils\n",
        "\n",
        "FILE_NAME = 'train.npz'# 데이터 셋 가져와서\n",
        "\n",
        "#각 글자의 (1 x 400) 데이터와 정답 (0~9, +-*)\n",
        "with np.load(FILE_NAME) as data:# 그 데이터 셋을 data라는 변수에 넣고\n",
        "    train = data['train']# 옮겨 담음\n",
        "    train_labels = data['train_labels']\n",
        "\n",
        "knn = cv2.ml.KNearest_create()#knn 선언\n",
        "knn.train(train, cv2.ml.ROW_SAMPLE, train_labels)#knn 학습\n",
        "\n",
        "def check(test, train, train_labes):\n",
        "    # test 이미지와 가장 가까운 레이블을 출력 k = 1인 이유는 모든 이미지가 동일한 크기, 동일한 모양이라서 가장 가까운거 하나 찾아도 됨!\n",
        "    #가장 가까운 k개의 글자를 찾아, 어떤 숫자에 해당하는지 찾습니다. 테스트 데이터 갯수에 따라 조절\n",
        "    ret, result, neighbours, dist = knn.findNearest(test, k=1)\n",
        "    return result\n",
        "\n",
        "def get_result(file_name):# 파일이 들어오면\n",
        "    image = cv2.imread(file_name)\n",
        "    chars = utils.extract_chars(image)# 각각의 이미지를 왼쪽부터 담고\n",
        "    result_string = \"\"\n",
        "    for char in chars:\n",
        "        # 이미지를 400으로 쭉 늘어트리고 매치되는 데이터를 담음\n",
        "        matched = check(utils.resize20(char[1]), train, train_labels)\n",
        "        if matched < 10:\n",
        "            # 숫자를 왼쪽부터 차례로 붙일 수 있게\n",
        "            result_string += str(int(matched))\n",
        "            continue\n",
        "            \n",
        "        if matched == 10:\n",
        "            matched = \"+\"\n",
        "\n",
        "        elif matched == 11:\n",
        "            matched = \"+\"\n",
        "\n",
        "        elif matched == 12:\n",
        "            matched = \"+\"\n",
        "\n",
        "        result_string += matched\n",
        "    return result_string\n",
        "# 최종적으로 이미지를 문자열로 반환\n",
        "print(get_result(\"3.png\"))\n"
      ],
      "execution_count": null,
      "outputs": []
    }
  ]
}