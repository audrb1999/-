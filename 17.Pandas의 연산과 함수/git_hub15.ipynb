{
  "nbformat": 4,
  "nbformat_minor": 0,
  "metadata": {
    "colab": {
      "name": "git_hub13.ipynb",
      "provenance": [],
      "toc_visible": true,
      "authorship_tag": "ABX9TyMaMI2hqVDlh/n3VhXL5faX",
      "include_colab_link": true
    },
    "kernelspec": {
      "name": "python3",
      "display_name": "Python 3"
    },
    "language_info": {
      "name": "python"
    }
  },
  "cells": [
    {
      "cell_type": "markdown",
      "metadata": {
        "id": "view-in-github",
        "colab_type": "text"
      },
      "source": [
        "<a href=\"https://colab.research.google.com/github/audrb1999/Python_image/blob/main/17.Pandas%EC%9D%98%20%EC%97%B0%EC%82%B0%EA%B3%BC%20%ED%95%A8%EC%88%98/git_hub15.ipynb\" target=\"_parent\"><img src=\"https://colab.research.google.com/assets/colab-badge.svg\" alt=\"Open In Colab\"/></a>"
      ]
    },
    {
      "cell_type": "markdown",
      "metadata": {
        "id": "mRHrgBRYQe_O"
      },
      "source": [
        "# 17.Pandas의 연산과 함수"
      ]
    },
    {
      "cell_type": "markdown",
      "metadata": {
        "id": "zLQi_Qh1aUCs"
      },
      "source": [
        "\n",
        "##데이터 프레임의 Null 여부 확인"
      ]
    },
    {
      "cell_type": "code",
      "metadata": {
        "id": "K3SHga2jMLxM",
        "colab": {
          "base_uri": "https://localhost:8080/"
        },
        "outputId": "33ec1549-93f9-4c8e-84e5-6e8c59fb2af6"
      },
      "source": [
        "import pandas as pd\n",
        "import numpy as np\n",
        "\n",
        "word_dict = {\n",
        "    'Apple': '사과',\n",
        "    'Banana': '바나나',\n",
        "    'Carrot': '당근',\n",
        "    'Durian': '두리안'\n",
        "}\n",
        "\n",
        "frequency_dict = {\n",
        "    'Apple': 3,\n",
        "    'Banana': 5,\n",
        "    'Carrot': np.nan, # null data\n",
        "    'Durian': 2\n",
        "}\n",
        "\n",
        "importance_dict = {\n",
        "    'Apple': 3,\n",
        "    'Banana': 2,\n",
        "    'Carrot': 1,\n",
        "    'Durian': 1\n",
        "}\n",
        "\n",
        "word = pd.Series(word_dict)\n",
        "frequency = pd.Series(frequency_dict)\n",
        "importance = pd.Series(importance_dict)\n",
        "\n",
        "summary = pd.DataFrame({\n",
        "    'word': word,\n",
        "    'frequency': frequency,\n",
        "    'importance': importance\n",
        "})\n",
        "\n",
        "print(summary,'변환 없음 \\n')\n",
        "print(summary.notnull(),'notnull()\\n')# null data가 아닌지  \n",
        "print(summary.isnull(),'isnull()\\n')\n",
        "summary['frequency'] = summary['frequency'].fillna('데이터 없음')# fillna = fill nan nan을 채우겠다는 의미\n",
        "print(summary)"
      ],
      "execution_count": 1,
      "outputs": [
        {
          "output_type": "stream",
          "text": [
            "       word  frequency  importance\n",
            "Apple    사과        3.0           3\n",
            "Banana  바나나        5.0           2\n",
            "Carrot   당근        NaN           1\n",
            "Durian  두리안        2.0           1 변환 없음 \n",
            "\n",
            "        word  frequency  importance\n",
            "Apple   True       True        True\n",
            "Banana  True       True        True\n",
            "Carrot  True      False        True\n",
            "Durian  True       True        True notnull()\n",
            "\n",
            "         word  frequency  importance\n",
            "Apple   False      False       False\n",
            "Banana  False      False       False\n",
            "Carrot  False       True       False\n",
            "Durian  False      False       False isnull()\n",
            "\n",
            "       word frequency  importance\n",
            "Apple    사과         3           3\n",
            "Banana  바나나         5           2\n",
            "Carrot   당근    데이터 없음           1\n",
            "Durian  두리안         2           1\n"
          ],
          "name": "stdout"
        }
      ]
    },
    {
      "cell_type": "markdown",
      "metadata": {
        "id": "Td3vl7_jlSlM"
      },
      "source": [
        "##시리즈 자료형의 연산"
      ]
    },
    {
      "cell_type": "code",
      "metadata": {
        "id": "Kc5Y3pmmMQIq",
        "colab": {
          "base_uri": "https://localhost:8080/"
        },
        "outputId": "cfed9056-dff7-4d13-f7a7-af650a66baaa"
      },
      "source": [
        "\n",
        "import pandas as pd\n",
        "\n",
        "array1 = pd.Series([1, 2, 3], index=['A', 'B', 'C'])\n",
        "array2 = pd.Series([4, 5, 6], index=['B', 'C', 'D'])\n",
        "\n",
        "# 단순 덧셈(겹치지 않는 데이터는 null로 나옴!) fillna를 통해 다시 채우기!\n",
        "# 시리즈 값(칼럼 이름)과 인덱스 값(행 이름 값)이 같은 것들 끼리만 덧셈가능!\n",
        "array = array1.add(array2, fill_value=0)# 0 이면 그값 그대로 나옴, 인덱스값이 같아야함!\n",
        "print(array)"
      ],
      "execution_count": 2,
      "outputs": [
        {
          "output_type": "stream",
          "text": [
            "A    1.0\n",
            "B    6.0\n",
            "C    8.0\n",
            "D    6.0\n",
            "dtype: float64\n"
          ],
          "name": "stdout"
        }
      ]
    },
    {
      "cell_type": "code",
      "metadata": {
        "colab": {
          "base_uri": "https://localhost:8080/"
        },
        "id": "3BtNLZhoaYwU",
        "outputId": "78d142ab-3410-442a-f01b-d23b2f9656e8"
      },
      "source": [
        "import pandas as pd\n",
        "\n",
        "array1 = pd.DataFrame([[1, 2], [3, 4]], index=['A', 'B'])# (2, 2)\n",
        "array2 = pd.DataFrame([[1, 2, 3], [4, 5, 6], [7, 8, 9]], index=['B', 'C', 'D'])# (3, 3)\n",
        "\n",
        "print(array1,'\\n')\n",
        "print(array2,'\\n')\n",
        "\n",
        "# 인덱스 끼리 덧셈을함! 겹치는 인덱스가 없으면 nan값이 나오게됨!\n",
        "# 첫번째 데이터 프레임에 [A, 2]가 없음, 두번째 데이터 프레임에 A라는 인덱스가 없음\n",
        "array = array1.add(array2, fill_value=0)\n",
        "print(array)"
      ],
      "execution_count": 3,
      "outputs": [
        {
          "output_type": "stream",
          "text": [
            "   0  1\n",
            "A  1  2\n",
            "B  3  4 \n",
            "\n",
            "   0  1  2\n",
            "B  1  2  3\n",
            "C  4  5  6\n",
            "D  7  8  9 \n",
            "\n",
            "     0    1    2\n",
            "A  1.0  2.0  NaN\n",
            "B  4.0  6.0  3.0\n",
            "C  4.0  5.0  6.0\n",
            "D  7.0  8.0  9.0\n"
          ],
          "name": "stdout"
        }
      ]
    },
    {
      "cell_type": "markdown",
      "metadata": {
        "id": "--HtEyWAajr8"
      },
      "source": [
        "## 집계합수"
      ]
    },
    {
      "cell_type": "code",
      "metadata": {
        "colab": {
          "base_uri": "https://localhost:8080/"
        },
        "id": "y6YNOP6ZahF9",
        "outputId": "735cdaab-64ff-4616-84ee-cb1cf54cd477"
      },
      "source": [
        "import pandas as pd\n",
        "\n",
        "array1 = pd.DataFrame([[1, 2], [3, 4]], index=['A', 'B'])\n",
        "array2 = pd.DataFrame([[1, 2, 3], [4, 5, 6], [7, 8, 9]], index=['B', 'C', 'D'])\n",
        "\n",
        "array = array1.add(array2, fill_value=0)\n",
        "print(array)\n",
        "\n",
        "# 컬럼 1에 대한 합만 구할 수 있음\n",
        "print(\"컬럼 1의 합:\", array[1].sum())\n",
        "print(array.sum())"
      ],
      "execution_count": 4,
      "outputs": [
        {
          "output_type": "stream",
          "text": [
            "     0    1    2\n",
            "A  1.0  2.0  NaN\n",
            "B  4.0  6.0  3.0\n",
            "C  4.0  5.0  6.0\n",
            "D  7.0  8.0  9.0\n",
            "컬럼 1의 합: 21.0\n",
            "0    16.0\n",
            "1    21.0\n",
            "2    18.0\n",
            "dtype: float64\n"
          ],
          "name": "stdout"
        }
      ]
    },
    {
      "cell_type": "markdown",
      "metadata": {
        "id": "7D27TYm3alT0"
      },
      "source": [
        "## 데이터 프레임 정렬 함수"
      ]
    },
    {
      "cell_type": "code",
      "metadata": {
        "colab": {
          "base_uri": "https://localhost:8080/",
          "height": 162
        },
        "id": "tQFV-MTyal_8",
        "outputId": "5d27055f-0c49-426f-f880-92d089380b0c"
      },
      "source": [
        "import pandas as pd\n",
        "import numpy as np\n",
        "\n",
        "word_dict = {\n",
        "    'Apple': '사과',\n",
        "    'Banana': '바나나',\n",
        "    'Carrot': '당근',\n",
        "    'Durian': '두리안'\n",
        "}\n",
        "\n",
        "frequency_dict = {\n",
        "    'Apple': 3,\n",
        "    'Banana': 5,\n",
        "    'Carrot': 1,\n",
        "    'Durian': 2\n",
        "}\n",
        "\n",
        "importance_dict = {\n",
        "    'Apple': 3,\n",
        "    'Banana': 2,\n",
        "    'Carrot': 1,\n",
        "    'Durian': 1\n",
        "}\n",
        "\n",
        "word = pd.Series(word_dict)\n",
        "frequency = pd.Series(frequency_dict)\n",
        "importance = pd.Series(importance_dict)\n",
        "\n",
        "summary = pd.DataFrame({\n",
        "    'word': word,\n",
        "    'frequency': frequency,\n",
        "    'importance': importance\n",
        "})\n",
        "\n",
        "print(summary)\n",
        "\n",
        "# sort_values를 통해 정렬 가능 frequency 값을 기준으로 내림차순으로 정렬 한 것!\n",
        "summary = summary.sort_values('frequency', ascending=False)\n",
        "print(summary)"
      ],
      "execution_count": null,
      "outputs": [
        {
          "output_type": "execute_result",
          "data": {
            "text/html": [
              "<div>\n",
              "<style scoped>\n",
              "    .dataframe tbody tr th:only-of-type {\n",
              "        vertical-align: middle;\n",
              "    }\n",
              "\n",
              "    .dataframe tbody tr th {\n",
              "        vertical-align: top;\n",
              "    }\n",
              "\n",
              "    .dataframe thead th {\n",
              "        text-align: right;\n",
              "    }\n",
              "</style>\n",
              "<table border=\"1\" class=\"dataframe\">\n",
              "  <thead>\n",
              "    <tr style=\"text-align: right;\">\n",
              "      <th></th>\n",
              "      <th>word</th>\n",
              "      <th>frequency</th>\n",
              "      <th>importance</th>\n",
              "    </tr>\n",
              "  </thead>\n",
              "  <tbody>\n",
              "    <tr>\n",
              "      <th>Apple</th>\n",
              "      <td>사과</td>\n",
              "      <td>3</td>\n",
              "      <td>5</td>\n",
              "    </tr>\n",
              "    <tr>\n",
              "      <th>Banana</th>\n",
              "      <td>바나나</td>\n",
              "      <td>5</td>\n",
              "      <td>2</td>\n",
              "    </tr>\n",
              "    <tr>\n",
              "      <th>Carrot</th>\n",
              "      <td>당근</td>\n",
              "      <td>7</td>\n",
              "      <td>1</td>\n",
              "    </tr>\n",
              "    <tr>\n",
              "      <th>Elderberry</th>\n",
              "      <td>엘더베리</td>\n",
              "      <td>5</td>\n",
              "      <td>3</td>\n",
              "    </tr>\n",
              "  </tbody>\n",
              "</table>\n",
              "</div>"
            ],
            "text/plain": [
              "            word  frequency  importance\n",
              "Apple         사과          3           5\n",
              "Banana       바나나          5           2\n",
              "Carrot        당근          7           1\n",
              "Elderberry  엘더베리          5           3"
            ]
          },
          "metadata": {
            "tags": []
          },
          "execution_count": 7
        }
      ]
    }
  ]
}