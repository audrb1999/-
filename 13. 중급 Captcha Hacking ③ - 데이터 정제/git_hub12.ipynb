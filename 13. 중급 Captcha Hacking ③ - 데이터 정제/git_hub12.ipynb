{
  "nbformat": 4,
  "nbformat_minor": 0,
  "metadata": {
    "colab": {
      "name": "git_hub12.ipynb",
      "provenance": [],
      "authorship_tag": "ABX9TyOeof2KS4NWPCOb54z3R9Ea",
      "include_colab_link": true
    },
    "kernelspec": {
      "name": "python3",
      "display_name": "Python 3"
    },
    "language_info": {
      "name": "python"
    }
  },
  "cells": [
    {
      "cell_type": "markdown",
      "metadata": {
        "id": "view-in-github",
        "colab_type": "text"
      },
      "source": [
        "<a href=\"https://colab.research.google.com/github/audrb1999/Python_image/blob/main/git_hub12.ipynb\" target=\"_parent\"><img src=\"https://colab.research.google.com/assets/colab-badge.svg\" alt=\"Open In Colab\"/></a>"
      ]
    },
    {
      "cell_type": "markdown",
      "metadata": {
        "id": "mRHrgBRYQe_O"
      },
      "source": [
        "#***13. 중급 Captcha Hacking ③ - 데이터 정제***"
      ]
    },
    {
      "cell_type": "markdown",
      "metadata": {
        "id": "T5wretMFlSok"
      },
      "source": [
        "머신러닝을 사용할려면 이미지를 그대로 사용할 순 없고 사용할 수 있는 형태로 정제해야함!\n",
        "\n",
        "mnist 인식을 할 때 flatten을 해서 쓴 것 처럼 이런 것들을 정제라고함!"
      ]
    },
    {
      "cell_type": "markdown",
      "metadata": {
        "id": "Td3vl7_jlSlM"
      },
      "source": [
        "1. 색상 별로 이미지를 추출하는 utils.py를 알아보자"
      ]
    },
    {
      "cell_type": "code",
      "metadata": {
        "id": "K3SHga2jMLxM"
      },
      "source": [
        "BLUE = 0# bgr 순서\n",
        "GREEN = 1\n",
        "RED = 2\n",
        "\n",
        "# 특정한 색상의 모든 단어가 포함된 이미지를 추출합니다.\n",
        "# 어떠한 색상이 들어왔다하면\n",
        "# blue(0)가 들어왔다하면 그것과 다른 두 가지 색을 고름\n",
        "def get_chars(image, color):\n",
        "    other1 = (color + 1) % 3# 이것을 통해 다른 두 가지를 고름 Green\n",
        "    other2 = (color + 2) % 3# red\n",
        "\n",
        "    c = image[:, :, other1] == 255# (FF) = 255 다른 색깔들은 제거 순수 green 제거\n",
        "    image[c] = [0, 0, 0]# 000으로 만듬\n",
        "    \n",
        "    c = image[:, :, other2] == 255# 순수 red 제거\n",
        "    image[c] = [0, 0, 0]\n",
        "    \n",
        "#그리고 색깔 두 개가 겹치는 곳을 따로 제거해줌\n",
        "    c = image[:, :, color] < 170# 파란색 값이 부족하면 없앰 파란색과 섞이면 괜찮지만 red green이 섞인 것들은 제거\n",
        "    image[c] = [0, 0, 0]\n",
        "\n",
        "    c = image[:, :, color] != 0# 파란색이 0이 아닌것들은 흰색으로 바꿈\n",
        "    image[c] = [255, 255, 255]\n",
        "\n",
        "    return image"
      ],
      "execution_count": null,
      "outputs": []
    },
    {
      "cell_type": "markdown",
      "metadata": {
        "id": "lRq9_SzEMPQC"
      },
      "source": [
        "그 다음 이 파일을 실행시킬 코드를 만들어보자!\n"
      ]
    },
    {
      "cell_type": "code",
      "metadata": {
        "id": "Kc5Y3pmmMQIq"
      },
      "source": [
        "import cv2\n",
        "import utils\n",
        "\n",
        "image = cv2.imread('1.png', cv2.IMREAD_COLOR)\n",
        "blue = utils.get_chars(image.copy(), utils.BLUE)\n",
        "green = utils.get_chars(image.copy(), utils.GREEN)\n",
        "red = utils.get_chars(image.copy(), utils.RED)\n",
        "\n",
        "cv2.imshow('Image Gray', blue)\n",
        "cv2.waitKey(0)\n",
        "\n",
        "cv2.imshow('Image Gray', green)\n",
        "cv2.waitKey(0)\n",
        "\n",
        "cv2.imshow('Image Gray', red)\n",
        "cv2.waitKey(0)"
      ],
      "execution_count": null,
      "outputs": []
    },
    {
      "cell_type": "markdown",
      "metadata": {
        "id": "NFqruR46MRrU"
      },
      "source": [
        "![image.png](data:image/png;base64,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)"
      ]
    },
    {
      "cell_type": "markdown",
      "metadata": {
        "id": "DggsbD7_MRkz"
      },
      "source": [
        "이 파일을 돌리면 첫 번째로 파란색 부분\n",
        "\n",
        "![image.png](data:image/png;base64,iVBORw0KGgoAAAANSUhEUgAAARMAAAC+CAYAAAAWXOs8AAARTUlEQVR4Ae2c269dRR3H94vRf4NeoIm0RdqCOU+8aow3jErUmPhwjJoYn3wwJBqNCgVhIxIErVIQuVjBQjyllFIomhioiRDAywmJ1aSN9N5iAQn5mdl7z95rz541a2bt3z7r9jnJyl5rbmvmO9/5zG+ts8/pbdq0SfhBARRAgbIKGIZs3LhResCkrITUQwEUMAoAE3yAAiigooCByYYNG4hMVNSkERTosALApMOTz9BRQFMBA5P169cTmWiKSlso0EUFgEkXZ50xo8ACFEiCyf4nD8g9u+9NPvY9sV/efffdBXSfJlEABeqiQBJM9jz6uBz5y8vB488vviLmeGz/s7L3ieHx64cfkVOnTtVlzPQDBVBgAQoYmKxbty7uncnBQ4flzbfeTj4OPP2sHDt2bAHdp0kUWLwCvV5PYo7F9yTtDqbPR44cya1k8kwZrZ8kmDxz+A/yt3/8W27Y9bTc+MuDsnP3U3LTrw7IzQ/sl1dffU1Onzop/zp6dHCcOnlS7t77wuAIw2RV+kvLsqI1Is12VvuylDHSUn9Vs3XaaogCMQsupsxaD9fA4j3vfZ8XKKG8sv1Mg8mzz8nfV4/Jl295TL7y49/J1+58RL6+a498496H5MUXV+XUydfl6NF/Dg4Lk137/iRNhMlqf0l6vWnIrfaXBZ6UtVpz68WAIqZMFQr4oOFL0+hbEkyefOrQACbX794vX/3pHvn87ffIdXfcJdfd9ZMBTE6fmIbJvYefkwdeeDoBJiuy3FuW/mAhD0PL5RWR4cKeXI8HvrI8Dj+nooZsRLHcl/7S0gQCU3l58dCwH3m5YtpY6kt/2fRpBBxPX1aWe2L6P/4Z1Rtfc9IIBWJAEVOmqsFm4ZE91+5PEkz2j2By7c5d8qEbbpeP3HqrfPyOm+Xau2+YikzMo46JTH770j7Z+9fHEmHSkzEY7AK1K3K0GIcPG6vS79uVaha/BUb2XEQGbfjzZha7VXdledIHm5b9HAHJdkskpy/m3pNCAyhmLrMtcl5jBWJAEVOmyiFaiOQ99mj0LQkmNjL58E23yUdvu0U+cedO+dTPfyCf3f3dIUxOvD71zuSV4y+LOeIfc9yIwAGDuPkTCVaWR8BwFvBgodvIxM3LgYaJhMZAk2xkNLrHACbTj0CTnhh+ZeFly9X43VC28ws+N4su5lhwN5KajwFFTJmkmyoXri1MPnb7zfLJu26UT//i+3Ldfd+RLzx4fSYymbyAffutN8Uc88HELkajrrMgB1GHNecEJlkQZGGSfVwaG9oTKrgwsfM6hsRUhDTK9fVlEBiNHnVMHc+9bNt81leBGFDElKlqhBYk5jN7rt2fUpHJtT/7oXzmnu/J5+7/tnzx4W/Jlx755gAmJ0/8Z/DydfiYc0IuXDgvZ8+cWQxMnChjvNCddBlEM3mgyZHTB4sBGDKRyVJfxr/bce457otpfpRnAAVLcvSueXIMKGLKVDFMHzx8aRp9S4PJwUPy0suvyc5HH5ab9j4oP3r8frn19/dJf99uef75l8TAxP5q+OSJE3Lu3NnBl9UWEZlMRQ+Dx47so4U9t48oGQjYF6ZGvZX+5MWso6Z5n9LLAiMAk/y+mEZNNLUkS3X99bczbi5nFYgBRUyZ2ZYXmxKCRiivbK+SYPLEgUPyzjv/k3NnT8v50XHh/Dm5cP6snD93Wi7+9w15682L8sYbFwYgOXPmtJhjETAZRhyjR5zBb1YmABm+dB3mLfVXpn+bYyIF+9xeECoYSIzLmjq2/EzkYt7l5PRl9M5l+tGr7HRRrwoFpjxg59nzWUXfQvc0/TbQyPsxeaaM1k8STB7a8+gADAYOvuPgM8/JocN/lKcOHZ7Kv/+B38jx48e1+pzYTv5L28SGShYfRiZ8P6WkfFRrjAJJMLl48eIACuar8SmHAYmpW8XPILqwEUU1HRh8J2X8fqWKPnBPFFgDBZJgsgb9UbhF5pHDhKLOew+FG0Q3MXjvMv7+S3Q1CqJAIxVoIUwaOQ90GgUarwAwafwUMgAUqIcCwKQe80AvUKDxCgCTxk8hA0CBeigATOoxD/QCBRqvADBp/BQyABSohwLApB7zQC9QoPEKAJPGTyEDQIF6KDAFk2uuuUY40AAP4IEyHpiBSewfNVHO/h8VPvECHjDwASaev/5kcbA48ECaB4AJIJn+FwvogR4lPQBMSgrHrpW2a6FX+/UCJsCEnRgPqHgAmGAkFSMRebQ/8iiaY2ACTIAJHlDxADDBSCpGKtq1NPLr8bWs+F5ojLlJbQATYNIImMQv4XqVbBIM5u0rMAEmtYdJvfCQ3pt5F2lT6gMTYAJM0vmQVKMpMJi3n8AEmACTJDSkF553kTalPjABJsAknQ9JNZoCg3n7CUyACTBJQkN64XkXaVPqAxNgAkzS+ZBUoykwmLefwASY1B4mxuRN/pl3kTalPjABJo2ASZOB0hQYzNtPYAJMGgOTec2uWT8lUtK8b53bAibABJgkeiAFJKZsnQGg2TdgkmgkTfFpq3l/aQtI8ucMmACTzuycGvAGJsCEBQM05/ZAKki69IhjQE1kwiKbe5Fp7Ph1bwOQ5Eckdu6ACTABJgUeKAOSrkUlRCYFJrLE9X2GDOYrT1rxzlZHjULzHMqr41gW3ScikxJACZnI5i164mh/8XCyc5n62dW5ASYLgokxYFdN1ZZxp0LElm/L+FPHAUwSYWINE/OZOhmUX3y0EatxzPz6ysS238ZywASYEEE5HvBBIiatjYBIGRMwcYwUEi/GUNkyobbIq08Ukp2L7PylnGfb6Oo5MAEmRCYjD6TAwy3bVYBkxw1MImHimqfoOisy5/WMQrLzUjSfofxsO10+BybApPORSQgURXldhoc7dmASAZMiQ7n5rshc1zsycecv9pp5nZ5XYAJMOh2ZxILDLQdIpkFi9AAmBTBxTVR0jclmTVZXTYrmMi+/ruOpul/ABJh0NjLJg0UoveoFW+f7A5MATEKmysur82TTt0nUlDd/ReloONHQ1QKYKMLEFZfrfONVqU0RMPLyq+xzE+4NTIBJ5x5z8mARSm/CYq66j8AkByYhY/nyqp5I7h8XBfnmrigNbeO0BSbApFORSRE43HxAEgcSoxMw8cDENVTRNYaLN1yVWhXNoy+/yv427d7ABJh0JjLxwSKU1rTFXHV/gYkDk5C5fHlVTyD3j4uKfHMXSkPXOF2zOgETYNKJyCQEDl9edpFwHgcWYJKBic9UoTRMFmeyqnUKzaEvr+r+NvX+wASYtD4y8QEjlNbUxVx1v4HJCCYhc/nyqp447h8XFfnmLpSGrnG6+nQCJsCk1ZFJCBy+PN8iIS0OMMCk1/N5KpiGueLMVQedghPpZNahv03uAzABJq2NTBxWFF42eSHXoe+dh0mhw5wCdZg0+hAXGTlTF7xE0zhNQzoBk6DFZjNDYpI3vyE1NZydvfwUzft2tS1gku8vb05XjdK0cXsnL5DYtPHVsb+dhknAW96sOk4gffJHQ94JzElEQ7+GqboAkxyD+ZJTxPXVt2kp7VC2nNGt1jGfaFxOY1e3zsIkxmTZMq5woetsvbzzUH3y5jd3nu6+dPSeX2+jITDxucuTFms4T1VvUmx7lEs3ulfwnET0Tdc3T7NOwiTHV7nJeeL50nMbcTJ8dUnTMbYjdfASzXU0NzoCk6DVhpkphotoblwkpV3Kxpt+LHDECbrG61qkVedgEuGvqSJFArr5U5ULLty6XOsYu0D2qWw019Hc6AhMpqw1e5FqttkW8lNS26Z8nPHzFZ/NQdM4TWN06hRMZq0UTokR0C0TbnE6163LtY6xp1UOX6G5juZGR2AS8FoZowWam8kq0z51is0/I3ROAloWa5miUWdgkuOn3OQUEbNlcxv0ZGTrca5nbI/U3iQ019PcaAlMvDaT0n+Wn9OcNxkz65rZ6ukV25Noy/OpMw/ARNlknuZykzCxjoldHXMFdzLcelzPNx+dgInjocLLeUxV2HimwDz3oW6+8TMSB0/RMF/DMtoAE8duZUTM1nGaC15m63GuZ+yg6JlMNNfT3GjZephkvBN1Oq/Bom4yKjTvvajvXwyxc4B+fv3K6gJMYp23xuXKTij14v9BOFoBk6TftKwxA9Rvh+HTDR87CWibrm1IMyKTWOdVVC40eeT5F0PsVKGfX7+yugCTWOdVVK7sxHa5XuxUdVmjRYwdmMQ6r6Jyi5j0trcZO1Vt12GtxwdMYp1XUbm1NkQb7hc7VW0Ya53GAExinVdRuTqZpSl9iZ2qpoynKf0EJrHOq6hcU4xUp37GTlWd+tyGvgCTWOdVVK4NJlvrMcRM1Vr3qQv3az1MzCQ29acLBlzUGENzvqh7dr3dTsBkLSc5ZGI3by37xb10v1OBnrN6ApPerCjzGMUFRuh6nvtQV3fe0HN+PYEJMEn68wQW3fyLrq0aAhNgAkyUPdBWWBSNC5goGyn0WOPmFU0O+UQBTfIAMAEmRCbKHmgSADT7CkyUjeRGH6FrzYmkLaKYqj0ATIAJkYmyB6pe1FXdH5goGykUibh5VU069yWKWYQHgAkwITJR9sAiFmoT2gQmykZyo4/QdRMMQh+JYmI9AEyACZGJsgdiF1/bygETZSOFIhE3r21mYjzdjmKASUUwYeF1e+G1cf6BCTDhMUfZA20ERcyYgMkCjOQ+zviuYyaHMkQvTfIAMFkATIwBQj9NMgh9BWixHgAmC4JJ7ARQjsXaFg8AE2DCOxM8oOIBYIKRVIzUlt2VcZSPFIEJMAEmeEDFA8AEI6kYiR29/I7eFu2ACTABJnhAxQPABCOpGKktuyvjKB9hARNgAkzwgIoHgAlGUjESO3r5Hb0t2gETYAJM8ICKB4AJRlIxUlt2V8ZRPsICJsAEmOABFQ8AE4ykYiR29PI7elu0AybABJjgARUPABOMpGKktuyujKN8hAVMgAkwwQMqHgAmGEnFSOzo5Xf0tmgHTIAJMMEDKh4AJhhJxUht2V0ZR/kIC5gAE2CCB1Q8AEwwkoqR2NHL7+ht0Q6YABNgggdUPABMMJKKkdqyuzKO8hEWMAEmwAQPqHgAmGAkFSOxo5ff0duiHTABJsAED6h4AJhgJBUjtWV3ZRzlIyxgAkyACR5Q8QAwwUgqRmJHL7+jt0U7YAJMgAkeUPEAMMFIKkZqy+7KOMpHWMAEmAATPKDiAWCCkVSMxI5efkdvi3bABJgAEzyg4gFggpFUjNSW3ZVxlI+wgAkwASZ4QMUDwAQjqRiJHb38jt4W7YAJMAEmeEDFA8AEI6kYqS27K+MoH2EBE2ACTPCAigeACUZSMRI7evkdvS3aARNgAkzwgIoHgAlGUjFSW3ZXxlE+wrIwueSSS6S3adMmMQkIWl5QtEO7rnoAmBCZsHngARUPABOMpGKkru7GjHsSiVqYrFu3jsccjDExBlqgRaoHgAmRCZEJHlDxADDBSCpGSt3FKN++yAeYABNgggdUPABMMJKKkYg02hdppM4pMAEmwAQPqHjAwmT9+vWT3+aYRA40wAN4INUD5ouvY5iYCw40wAN4oKwHNmzYIL2NGzeKOcyFOQxhzGG+hJI9zHfvOdAAD3TbA1kmWFYYbhiG9C699FIxhwuVLFhsJR9kso1zPg1g9ECPtnggywB7bgMQy47eZZddNoCJC5VstGIr5QHGNs7nMKpDB3RomweyDLDnFiLm0/BjABMDlBBUbCXbCJ/DR0J0QIcuecBywH7aAMR+Dv4FgXnpYoHiQsUWtA3wOXzHhA7o0EUPWB5kPy07ejuu+qDYY/uOq2V4XCXbtttjh2zbtkOunDq2y5XbONAAD3TDA5P1b1iwbbs5hnzYvuOqETOult6WK66U4fEB2bw1c2y5Qi6fOrbK5Vu2yuWbOdAAD7TZA+/fvFXsMR6nWfuDY8KFzVuumGLG/wH+xh4XA+8x4AAAAABJRU5ErkJggg==)"
      ]
    },
    {
      "cell_type": "markdown",
      "metadata": {
        "id": "SyY36iN0MRcc"
      },
      "source": [
        "두 번째로 초록색 부분\n",
        "\n",
        "![image.png](data:image/png;base64,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)\n"
      ]
    },
    {
      "cell_type": "markdown",
      "metadata": {
        "id": "5_KGacRZMc28"
      },
      "source": [
        "세 번째로 빨간색 부분 이렇게 나옵니다.\n",
        "\n",
        "![image.png](data:image/png;base64,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)"
      ]
    },
    {
      "cell_type": "markdown",
      "metadata": {
        "id": "Y_ko5Gd5Mczz"
      },
      "source": [
        "## ***수식을 계산하기 위한 준비***"
      ]
    },
    {
      "cell_type": "markdown",
      "metadata": {
        "id": "P_mEnVwDMcvU"
      },
      "source": [
        "##***트레이닝 데이터 만들기***\n",
        "\n",
        "> 이미지를 (20x20)크기로 통일!"
      ]
    },
    {
      "cell_type": "code",
      "metadata": {
        "id": "D4Mh5s0dMhGy"
      },
      "source": [
        "def extract_chars(image):\n",
        "    chars = []\n",
        "    colors = [BLUE, GREEN, RED]# 색깔별로 모든 이미지를 추출할 수 있게함!\n",
        "    for color in colors:\n",
        "        image_from_one_color = get_chars(image.copy(), color)# 색상별로 숫자 이미지 추출 추출된 넘파이 객체 저장\n",
        "        image_gray = cv2.cvtColor(image_from_one_color, cv2.COLOR_BGR2GRAY)#그레이로 적용\n",
        "        ret, thresh = cv2.threshold(image_gray, 127, 255, 0)# 그 다음 threshold로 바이너리 처리 > 컨투어를 쓰기위한 준비\n",
        "        # RETR_EXTERNA; 옵션으로 숫자의 외각을 기준으로 분리\n",
        "        contours = cv2.findContours(thresh, cv2.RETR_TREE, cv2.CHAIN_APPROX_SIMPLE)[0]\n",
        "\n",
        "        for contour in contours:# 추출 후 약간 의미없는 하얀 픽셀들이 생기는데 그걸 제거\n",
        "            # 추출된 이미지 크기가 50이상인 경우만 실제 문자 데이터인 것으로 파악 작은 픽셀 지우기\n",
        "            area = cv2.contourArea(contour)#픽셀 크기 측정\n",
        "            if area > 50:\n",
        "                x, y, w, h = cv2.boundingRect(contour)\n",
        "                roi = image_gray[y:y + h, x:x + w]#숫자에 해당하는 부분만 뽑기 위해서 roi를 이용!\n",
        "                chars.append((x, roi))\n",
        "\n",
        "    chars = sorted(chars, key = lambda char:char[0])# 추출 이미지를 x축으로 정렬\n",
        "    return chars\n"
      ],
      "execution_count": 1,
      "outputs": []
    },
    {
      "cell_type": "code",
      "metadata": {
        "id": "nW5oSo4hMuiS"
      },
      "source": [
        "# 특정 이미지를 (20x20)크기로 Scaling 합니다.\n",
        "def resize20(image):\n",
        "    resized = cv2.resize(image, (20, 20))\n",
        "    return resized.reshape(-1, 400).astype(np.float32)"
      ],
      "execution_count": null,
      "outputs": []
    },
    {
      "cell_type": "markdown",
      "metadata": {
        "id": "cP69WRIxMvl3"
      },
      "source": [
        "***실제 트레이닝 데이터 만들기***\n",
        "\n",
        "> imwrite 경로에서 스페이스바가 들어가면 오류는 안나는데 저장이 안됨!\n",
        "\n",
        "> 직접 저 경로에 알맞은 폴더들을 만들고! 해야함!\n",
        "\n"
      ]
    },
    {
      "cell_type": "code",
      "metadata": {
        "id": "GkRzhOT7Mw3D"
      },
      "source": [
        "import os\n",
        "import cv2\n",
        "import utils\n",
        "#training_data 폴더 생성 및 그 내부에 0, 1, 2, 3, 4, 5, 6, 7, 8, 9, 10, 11, 12 폴더 생성\n",
        "\n",
        "image = cv2.imread('4.png')\n",
        "chars = utils.extract_chars(image)# 색깔별 숫자 추출\n",
        "\n",
        "\n",
        "for char in chars:\n",
        "    cv2.imshow('Image', char[1])# 이미지 보여주고\n",
        "    input = cv2.waitKey(0)\n",
        "    resized = cv2.resize(char[1], (20, 20))# 크기 변경\n",
        "\n",
        "# 사용자의 입력으로 라벨링함!\n",
        "    if input >= 48 and input <=57:\n",
        "        name = str(input - 48)\n",
        "        file_count = len(os.listdir('./training_data/' + name + '/'))# 파일 이름이 안 겹치게 만드는 것 1 2 3 4 이렇게\n",
        "        #사용자가 만들어준 디렉토리로 해당 데이터가 이동\n",
        "        #확장자 지정 꼭 하자!\n",
        "        cv2.imwrite('./training_data/' + str(input - 48) + '/' + str(file_count + 1) + '.png', resized)\n",
        "        print('./training_data/' + str(input - 48) + '/' + str(file_count + 1) + '.png')\n",
        "\n",
        "    elif input == ord('a') or input == ord('b') or input == ord('c'):#+ - * 경우는 (+,a), (-, b), (*, c)로 구분해서 만듬\n",
        "        name = str(input - ord('a') + 10)\n",
        "        file_count = len(os.listdir('./training_data/' + name + '/'))\n",
        "        cv2.imwrite('./training_data/' + name + '/'+ str(file_count + 1) + '.png', resized)"
      ],
      "execution_count": null,
      "outputs": []
    },
    {
      "cell_type": "markdown",
      "metadata": {
        "id": "27g5g2jvMzw-"
      },
      "source": [
        "![image.png](data:image/png;base64,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)\n",
        "\n",
        "![image.png](data:image/png;base64,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)\n",
        "\n",
        "![image.png](data:image/png;base64,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)"
      ]
    },
    {
      "cell_type": "markdown",
      "metadata": {
        "id": "g1w2qKnSM2MN"
      },
      "source": [
        "이렇게 하나씩 뜨면 알맞은 숫자를 적으면 됩니다!\n",
        "\n",
        "사람이 직접 레이블링하는 것!\n",
        "\n",
        "위에 폴더 사진에 다 들어가 있는 모습\n",
        "\n",
        "![image.png](data:image/png;base64,iVBORw0KGgoAAAANSUhEUgAAAMIAAAEaCAYAAABD+4jHAAAS9klEQVR4Ae2dwW7sthWG8wJ9kLzCRevebAo0QNGit4aBrrLooob9DLZ3wUVw2zTW6gYIsvEsgyBL3YdTcaTLGfoMRVFDaeaQ+haGhhKtkcj/Oz8l8Yy++P0fv+r4ow22roEvtt4AnD9BQDQACDgiIwJrIHz7/LHz/x7f/7f75zf/oqOAdXUNmHIEHwL/8zf/vl+9ISwOkd5c3XQPu133cP12k+d/zj5ZBISv//LX7k9//jrYWbJetqeclC/+OZ/1vk8V0Jvrp+6lnRZeaj19XHPLKeeRUmfu926x/iIgfPj+h+7Hn34+gkEgkPWyPaVx54jfr6v3XYs4Us4jpY5uH8rHNwgWAcEJ3ochtG6qA3xxz/ns73cQRtt9+vSp/2t3T93f//HUveyeuoem7dq26W6v3nZv7pp9nZfHmx7UN1f33bPb/vnzw+NuX+/5bhiipNaT4xrcYzietnmaHOrE6utjDp3ru5Fz89uIzyuBIA3rC/9v7657J/DBSGn8OeL36+p96yjpxHUQ8k338DhcdwyiHoZDxwJvuz0k/bDpM0RHwMTqHYZaIuQ2MvTyj0XOya/fn1PwmF9fR4zV021E+TUMiziCa1QHwy+//hYcKrl6Y0tf3HM+6/2FQRhErOtK+bYZA+HwP/4+j4EZqSfCbw4X+v4+QsfRCz+x/uGYX4Og9+vq6fWUVwRBGldgeP/dh6PrhZSGnyN+v67etxZc7wi7p06GDa6uP8xwUTpZ4EeOMA6CcxT5Xn1c7ljcUo4pVj98zMcghOq572D5GgDXHos6gtvpqUtf3HM+6+/TgtMgiFD8SO2i5hog+N+jhz5Hx62Oy68/fsyvQRirp7+L8msgqgRBOvm2abv9NYGM7z1HePe420fe4fphpaFR7xyHawT5Xuc+ISH6wpftfv2xY9bnGqsX+k7WDUBUC4IbHvh3jdzQaBDc5zs5/d2kdUAQkbnjkLtYL4/303eNXt3NOtQfO2b/O/pz/cNd99wenxuCf+0Auj1MgaAPrrbyIObD9URt51fy+QDCGefx9EOd5r7zo/v+eUfktmrJAivl2AFhRRC04GXo4oZnpQhkK8cJCCuCsBUR1XCegAAI+2crNQj61HMABEAABGuJOafSzP/Fbw3SPtPtgyPgCDgCjjAdKYim22ijKh1Bz1Mi93kbYs4JWuZAkLTO/3z/v5Nmr7qG0CC48lZzn127sBwPCOZAcDkNc5N6/E52wp+79PfhPvsPxWIT5lx9luNis9w25kCQxsqFYS4Arr7uqGE6tzeLtc8wY66QbqcayiZByIXBCXvuUnfoUR4DP69S7R0msyCIKCX3WdI+JeNNizRWnguAq6/3KVOo/Ywx2S4T51yeg65PucxhkfSbWRByhkdO2HOXWsh+kovbFlrntrEEhFkRe0owORDIvucC4Orr48IRyhW27supsjlHyIVgaRD8nGPZt8tvnmpYtpcFkTkQ1nyO4CL/2FKLN3jXiJyCRd1ft/mlyuZAWKIhxoQ+tT703UNy/+cc4M+/gheqx7qyHED3V5Ug6JOkXLZIz9F/gMDs0yqHOnPhAQRAAATLzxHmEk19hj85GsARcAQcAUcgiuZE0Zr+F0fAEXAEHAFHqCmq55wLjoAj4Ai1OoJ+gkzOMs435RbmHGHNuUbkLAPEGBDmQLA0+9Q1mp5859azrAcscyCIuHJh0EOj1HJI2P1Pube77rkhMy3UPrWsMwlCLgypwtf1Yp1KimY90T/Uz2ZBkIO9dM6y32CAAAgXub2WMzzSkT617AtffwYEQDg7CDkQiIBTha/rafH7ZUAAhLOCkAsBINQtWD84LfnZ3DXCms8RtAPocqxhcYS6ATMHQkyMqdu0wFPLsf0DAiCcdWgUEyPb6hbjJfu3Ske4ZIPy3WXCCgjMPsXxa519SlQuMypfst9wBBwBR8ARiJyXjMKWvhtHwBFwBBwBR7AUlS95LDgCjoAj1OoI+kkyOcs435TbmHOENecakbMMEGNAmAPB2uxTmWP06dOn/q/l/QjVDqPMgSDE5sKgh0apZR0t+peNN/f7zpd3qrW8MWffHrq9Si6bBCEXhlTh63pTHdmDgSsAwpRQlt5uKWdZzk2/gHzp82V/l7uGwRGeP+5TO2NCHN6ltusert9WGRFj576FbSZBsHKN4AQgF8xcG1wuWrt+WHNpDoRcCKSx9Ng/tRxq6Num7V4eb3CByh88mgNhzecIU0BoELgmqNsF/P42B4J/cKd+nhL82Hb9fXK71D1DcMu25TpBt1MN5SpBqKFjOIfzuhEgVD72Bag0oAABELgRUOvsU6JgWhSknQ7thCPgCDgCjnCICETHbbcFjoAj4Ag4wrajIC546H8cAUfAEWp1BP3kmJzlQ+TDBcJtYc4R1pxrRM5yWATA8VVnDgRrs0/9+UZMxa4XJHMgSHTKhUEPjVLLOjLqnGWmZAPC2S+ocmBIFb6up0HQ5T5530vm19splwuKSUdwgrKWs3zbMAXb9U1tS7MgWHEE/xrh+Y585doAcOdjEoQcCOTE9JAntewaZWwp1wgtQ6OzD5PH+mPJ9eZAyIVAGidV+LreVMPyu0blXgNM9a05ENZ8jqCFr8u6sWRY5A+H+l+zwBFwBC0Uq2Ut8NSyPp83Vzfdw67d5y3zHAFHqDIKaOFTrlfoU31rbmg0dcBs365Y1+x7QGD2KW5f6+zTNSMH+67TkXAEHAFHwBHqjG641vx+xRFwBBwBR5gfOYi2dbYZjoAj4Ai1OoJ+kkzOcp1RfEl3NucIa841ImcZIMbgMQeC1dmnbt6RPwlvrFFZXx5w5kAQEeXCoIdGqeWYgN89Nt1zs3s1GzVWn21lwWAShFwYUoWv642JV14h9fx408k0bByhLIGP9alebxYEOVALOcvDkKjpbq/eAkLFd9jMgpAzPNKRPrWso4SUfRfwP4fqsq5ctzAJQg4EIsZU4et6WsiSoea/WhYQyhW67ltdNgdCLgRLgeDuErm3afpLHw7doJTLhMUcCGs+R9AOoMtTIsYRyhT5VL/KdnMgpBz0VB0t8NTy1H4BARCYj1LxHZOpALCF7VU6whY6jnNc1p0AgUiP29d6jUC0XDZabqE9cQQcAUfAEYicW4j2KeeII+AIOAKOgCOkRMst1MERcAQcoVZH0E+SyVnG+aZczZwjrDnXiJxlgBgDwhwIVmafugaT10X5M095dVSdMJkDQQSYC4MeGqWWnfj9JW/SrFP4fh/LZ5MgyIHlwJAqfF1PN86Qk8ArZXW71Fg2C4I09qVzlnVyDq+OqtcdzIJgwRF05JN8BK4R6oTBJAg5EIh49ZAntayFr8u8XrZOCKSfzYGQCwEg1CtWHZiWLJsDYc3nCFPOoBtWHODh8Wb/5FVupTI0qhM0cyBoMZ5SnhL82PbQd/nPEYCgTgik36sEISRo1tUr4iX6FhCYdLcf+i0hqFL3AQiAAAgMjRgulBrBlz5uHAFHwBFwBBxh6cha6v5wBBwBR8ARcIRSI/jSx40j4Ag4Qq2OoJ8ck7OM8005iDlHWHOuETnLADEGhDkQLM4+lTwEl7fM23LqhMkcCEJsLgx6aJRaDkULeY+an5n27u6+e3f1lnF1ZddWJkHIhSFV+LqeBsF/tazeRrkuZzALggjt4jnL10/dS3Pf+VOxeeF4XQC4gGYWhJzhkY70qWXXKG4pwyK5NnDiH1I1+VUL1z41LU2CkAOBdE6q8HU93bH6+kC280JBHOEsF4i5ECwKggyNdk+vLo4BARDOAsKazxG0A+jykSNc3XQPu/YwNBIw2qa75a7RWbSg+2PNssmhUe4Ja4GnlkPfO1wXDL9/2rZcH4TaqIZ1VYJQQ8dwDucdggFCZQ+GAOg0gAABEKob758SDAABEACh1mnYp0QE/ue0IUUt7YYj4Ag4Ao6w7ShYSzRf4jxwBBwBR8ARcIQlomkN+6jSEfSTZHKWAX4KVnMgrDnXiJxlgBgDwhwIpmaffs5HcPnKbknecn1AmQNBiM2FQQ+NUstj0cKt5x1q9QHg+tYkCLkwpApf13ONMrYkFwEQLnKL7dI5yz4QvRuoJB1/O5/LhgRHeP64T+2MiRk3KFvosb6VbSZBsHaNwLVB3RCYBCEXAjkpPfZPLY9FDUni505R3TCYc4Q1nyNMATEGgvyukftJl7E6rC8bFHMgLCGoKcGPbQ99N792V7bAQ30aWlclCKETZd02BH1qPwMCs08vcmv8VMGu9X+AAAiAYPX26VrUs1+GR2MawBFwBBwBRyBCjkXIra3HEXAEHAFHwBG2FvnHzhdHwBFwhFodQT85JmcZ5xtzArfenCOsOdeInGWAcMLXS3MgWJt9yvsRtgGPORCE1FwY9NAotayjxDDh7jDzNPRONf0/lMsExyQIuTCkCl/X0yLWCTnMRC1T5LpfQ2WzIMjBWshZ9nMRekdo7rnLUuGdNrMg5AyPdKRPLYcihRseyW8atSTvVxsETIKQA4GIOVX4up4GYRgaHV4g+KZ/q+ahrOtTLnfoZA6EXAgWBSGQqyy/ZkH+crmCHwtW5kBY8zmCdgBd1o00OMDhvcruVir5y4BQxBhRCzy1rEGQslwgu988lSUQ1AeB9LM5RwiJkXV1is9SvwJChbcCLQmslGMBBEAoYri7NlCAAAiAwDUCY++1I20p+8cRcAQcAUfAEUqJ2GsfJ46AI+AIOAKOsHakLWX/VTqCfpJMzjLATwFpDoQ15xqRswwQY0CYA8HS7FNptGHiXdvPN2rbwwS8sQZlfZmwmQNBhJQLgx4apZa1iI/yEe4aknMqvblgEoRcGFKFr+sdgSDC91Izh2w1EnN0O9VQNguCNO6lc5ZDOcp+DnMNAuAchqGcWRByhkc60qeWtSiOhkZ9qubh5110fcplXh9Iv5kEIQcCOalU4et6ISH7iTmSvP/QMDQKtVPp68yBkAvB0iD4HTw4BHeO/Dap5bM5ENZ8jqAdQJd1p8rF8e3dzX4KglwfkLhf7vBH969fNgeCf3CnftYCTy2Hvk9+tcLlLANBnRBIv1cJQkjQrKtXxEv0LSBU+oBoCXFsaR+AAAj7a6AtCV+fKyAAAiBwjcC4WUfGrZZxBBwBR8ARcIStOoA+bxwBR8ARcAQcQUfGrZardAT9JJmcZYCfAtwcCGvONSJnGSDGgDAHgsXZp+49avrdCO7FIf371VqmZ4+JrIT15kCQRsuFQQ+NUsuhDpNJd227656b3auXhGg4+mw2kvuLvfA2CUIuDKnC1/VCILh1AoTvCP2vW3hv2SSfuexhl1kQRICXzll2EMjyCISRFw36sPj/z2fboJgFIWd4pCN9ajkmVg2ClHV+QmhdbJ9sswOHSRByIBBxpQpf14sJU4Mg1wQhEHAEO+KO9afeZg6EXAjOCYL/m0fyvbck9nOxrAk7tbzmcwTtALocO+YjR7i66R52h5926e8aeRfPsX2xzZ5rmHOEJUSiBZ5ajn23BkHq8ruo9gQd68PYtipBiJ0w2+oR75J9CQjMPi12XA8IiBfxLqwBHGHhBl0ySrGv8w3jAAEQcBcSc84XcYjuttsaR8ARcAQcwXaUwkXO1z84Ao6AI9TqCPpJMjnL54uspbqYOUdYc64ROcsAMQaqORAszj7VaZl+Y8a2+fX4bBtCcyCIYHJh0EOj1HJIrDLZLpSzLHVj20L7Yp1dGEyCIILJgSFV+LpeTKih2aeufmybq8PSLgTSN2ZBkIOznLPsCxsQbIvc76uxz2ZBwBHKF9eY6CyuNwlCDgTSyHrIk1qOdVAs6se2xfbJNjuwmwMhFwJAsCOukkA3B8KazxGmnCHWcbGoH9sW2yfb7EBrDoQlxDEl+LHtse+OiT22LbZPtgEC81uY42RKA1U6ApHWTqQtpS8AgchsKjJfChxAAARAsP5k+VLRge/d3tAKR8ARcAQcYXuRD7cL9zmOgCPgCDhCODoQNbfXLlU6gn5yTM7y9oQ9N5htAgQHBjnLADEGiCkQZMKdzD4NHaysl+2hbXqdE/7cpd6PK4/lJcscI3nH8vCe5aa7vXqbdHxuvyztgGkKhA/f/9D9+NPPRzC4qdmyPUU8cwFw9UP7FrGHcpb7l4039/vj4Y05dkQd6sepdaZAcIL3YQitmzopJ+y5y9h+p2aY9mDwwvF9YIi1pcVtpkCQBvKFLznLAoUPRkojzgXA1Y/texKE66fuhXeoAUJMRHO3ORh++fW32RDIdzlhz13GjjMGwvAutV33cM01QqwNLW8z5wiusQSG9999OLpecNtjy7kAuPqxfY6BIOtbnKBYJ3B9bhYEd4CnLJ2w5y5j3xUC4bZpj146HtsH2+xeUAPC88f9UComVA1CPxzCCYp3AtfngHAqCHfN/hnC4VkC1wlOWKUtqwShtE7geC8/ZAIEZp9WM7zJCSiAAAiAwDTsy1tyThTjf5frPxwBR8ARxBF+9+VVxx9tsHUNAAKBgED45RWOsPVIyPkPo4H/A/PaKacdtKU0AAAAAElFTkSuQmCC)"
      ]
    }
  ]
}
