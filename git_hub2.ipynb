{
  "nbformat": 4,
  "nbformat_minor": 0,
  "metadata": {
    "colab": {
      "name": "git_hub2.ipynb",
      "provenance": [],
      "authorship_tag": "ABX9TyOnxJk4rADu2bHbIbaOzvIU",
      "include_colab_link": true
    },
    "kernelspec": {
      "name": "python3",
      "display_name": "Python 3"
    },
    "language_info": {
      "name": "python"
    }
  },
  "cells": [
    {
      "cell_type": "markdown",
      "metadata": {
        "id": "view-in-github",
        "colab_type": "text"
      },
      "source": [
        "<a href=\"https://colab.research.google.com/github/audrb1999/Python_image/blob/main/git_hub2.ipynb\" target=\"_parent\"><img src=\"https://colab.research.google.com/assets/colab-badge.svg\" alt=\"Open In Colab\"/></a>"
      ]
    },
    {
      "cell_type": "markdown",
      "metadata": {
        "id": "mRHrgBRYQe_O"
      },
      "source": [
        "#***5. Tracker를 사용해 색 변경!***"
      ]
    },
    {
      "cell_type": "markdown",
      "metadata": {
        "id": "uzKXsBgQQi23"
      },
      "source": [
        "해당 코드는 파이참으로 구동해야합니다!"
      ]
    },
    {
      "cell_type": "code",
      "metadata": {
        "id": "Z4iaKt-AQhW1"
      },
      "source": [
        "#실시간으로 볼려면 윈도우 창이 필요! 코랩 멧플랏립으로는 한계가 있어서 파이참 사용!\n",
        "\n",
        "import cv2\n",
        "import numpy as np\n",
        "#트랙바 = 색조절 할 수 있음!\n",
        "#tracker value = 초기값, count = max 값, on)_change 값이 변경될 때 호출되는 callback 함수\n",
        "#600 400 3의 이미지를 만들어주고(검은 바탕 모든 색깔0) 그걸 색조절image로 사용\n",
        "#cv2.createTrackbar('R', \"Image\", 0, 255, change_color) R 조정 색깔 0~255까지 색이 바뀜\n",
        "#change_color > 트랙바를 조정할 때 마다 이 함수가 이벤트로 일어남!\n",
        "# 각각 트랙바에 담긴 정보를 가져와 그 정보로 색깔을 교체!\n",
        "\"\"\"\n",
        "def change_color(x):\n",
        "    r = cv2.getTrackbarPos('R', \"Image\")\n",
        "    g = cv2.getTrackbarPos('G', \"Image\")\n",
        "    b = cv2.getTrackbarPos('B', \"Image\")\n",
        "    image[:] = [b, g, r]\n",
        "    cv2.imshow('Image', image)#해당 색깔로 교체\n",
        "\n",
        "image = np.zeros((600, 400, 3), np.uint8)\n",
        "cv2.namedWindow('Image')# 이미지 윈도우를 만들고\n",
        "\n",
        "\n",
        "cv2.createTrackbar('R', \"Image\", 0, 255, change_color)# 트랙바를 붙여줌\n",
        "cv2.createTrackbar('G', \"Image\", 0, 255, change_color)\n",
        "cv2.createTrackbar('B', \"Image\", 0, 255, change_color)\n",
        "\n",
        "\n",
        "cv2.imshow(\"Image\", image)\"\"\""
      ],
      "execution_count": null,
      "outputs": []
    }
  ]
}